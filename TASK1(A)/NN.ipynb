{
 "cells": [
  {
   "cell_type": "code",
   "execution_count": 52,
   "metadata": {},
   "outputs": [
    {
     "name": "stderr",
     "output_type": "stream",
     "text": [
      "[nltk_data] Downloading package stopwords to\n",
      "[nltk_data]     /Users/utsavsuthar/nltk_data...\n",
      "[nltk_data]   Package stopwords is already up-to-date!\n",
      "[nltk_data] Downloading package wordnet to\n",
      "[nltk_data]     /Users/utsavsuthar/nltk_data...\n",
      "[nltk_data]   Package wordnet is already up-to-date!\n",
      "[nltk_data] Downloading package punkt to\n",
      "[nltk_data]     /Users/utsavsuthar/nltk_data...\n",
      "[nltk_data]   Package punkt is already up-to-date!\n"
     ]
    }
   ],
   "source": [
    "#Importing neccessary libararies\n",
    "import pandas as pd\n",
    "import nltk\n",
    "import re\n",
    "from nltk.corpus import stopwords\n",
    "from nltk.tokenize import word_tokenize\n",
    "from nltk.stem import WordNetLemmatizer\n",
    "from sklearn.model_selection import train_test_split\n",
    "nltk.download('stopwords')\n",
    "nltk.download('wordnet')\n",
    "nltk.download('punkt')\n",
    "import numpy as np\n",
    "import string\n",
    "import torch\n",
    "import torch.nn as nn\n",
    "from torch.utils.data import Dataset\n",
    "from torch.utils.data import DataLoader\n",
    "import numpy as np\n",
    "import pandas as pd\n",
    "from sklearn.model_selection import train_test_split\n",
    "from tqdm import tqdm\n",
    "import torch.optim as optim\n",
    "import warnings\n",
    "import gensim\n",
    "import gensim.downloader\n",
    "from gensim.models import Word2Vec\n",
    "from gensim.utils import simple_preprocess\n",
    "#importing pretrained word2vector model on google news\n",
    "word2vec_model = gensim.downloader.load('word2vec-google-news-300')\n",
    "warnings.filterwarnings(\"ignore\")"
   ]
  },
  {
   "cell_type": "code",
   "execution_count": 74,
   "metadata": {},
   "outputs": [
    {
     "data": {
      "text/html": [
       "<div>\n",
       "<style scoped>\n",
       "    .dataframe tbody tr th:only-of-type {\n",
       "        vertical-align: middle;\n",
       "    }\n",
       "\n",
       "    .dataframe tbody tr th {\n",
       "        vertical-align: top;\n",
       "    }\n",
       "\n",
       "    .dataframe thead th {\n",
       "        text-align: right;\n",
       "    }\n",
       "</style>\n",
       "<table border=\"1\" class=\"dataframe\">\n",
       "  <thead>\n",
       "    <tr style=\"text-align: right;\">\n",
       "      <th></th>\n",
       "      <th>index</th>\n",
       "      <th>text</th>\n",
       "      <th>label</th>\n",
       "    </tr>\n",
       "  </thead>\n",
       "  <tbody>\n",
       "    <tr>\n",
       "      <th>0</th>\n",
       "      <td>0</td>\n",
       "      <td>Detainees seen as minimal threat WASHINGTON --...</td>\n",
       "      <td>0</td>\n",
       "    </tr>\n",
       "    <tr>\n",
       "      <th>1</th>\n",
       "      <td>1</td>\n",
       "      <td>Japan's army works out plan to cope with North...</td>\n",
       "      <td>0</td>\n",
       "    </tr>\n",
       "    <tr>\n",
       "      <th>2</th>\n",
       "      <td>2</td>\n",
       "      <td>UN council arrives in Nairobi UN Security Coun...</td>\n",
       "      <td>0</td>\n",
       "    </tr>\n",
       "    <tr>\n",
       "      <th>3</th>\n",
       "      <td>3</td>\n",
       "      <td>APEC Ministers Urge New Effort on Trade Talks ...</td>\n",
       "      <td>0</td>\n",
       "    </tr>\n",
       "    <tr>\n",
       "      <th>4</th>\n",
       "      <td>4</td>\n",
       "      <td>At Least Five Dead in Russia Mine Blast (Reute...</td>\n",
       "      <td>0</td>\n",
       "    </tr>\n",
       "  </tbody>\n",
       "</table>\n",
       "</div>"
      ],
      "text/plain": [
       "   index                                               text  label\n",
       "0      0  Detainees seen as minimal threat WASHINGTON --...      0\n",
       "1      1  Japan's army works out plan to cope with North...      0\n",
       "2      2  UN council arrives in Nairobi UN Security Coun...      0\n",
       "3      3  APEC Ministers Urge New Effort on Trade Talks ...      0\n",
       "4      4  At Least Five Dead in Russia Mine Blast (Reute...      0"
      ]
     },
     "execution_count": 74,
     "metadata": {},
     "output_type": "execute_result"
    }
   ],
   "source": [
    "#Reading train and test data from the file\n",
    "train_df = pd.read_csv(\"../NLP3/train.csv\")\n",
    "test_df = pd.read_csv(\"../NLP3/test.csv\")\n",
    "test_df.head()"
   ]
  },
  {
   "cell_type": "code",
   "execution_count": 75,
   "metadata": {},
   "outputs": [],
   "source": [
    "#patter to remove HTML Tags \n",
    "pattern1 = r\"&lt;.*?&gt;|#[0-9]*;|\\([^)]*\\)|\\d+(st|nd|rd|th)|\\d+\"\n",
    "punch_set = set(string.punctuation)\n",
    "elements = {\"'s\",\"``\",\"''\",\"...\",\"--\"}\n",
    "punch_set.update(elements)\n",
    "stop_words = set(stopwords.words(\"english\"))\n",
    "lemmatizer = WordNetLemmatizer()\n",
    "\n",
    "def preprocess(text):\n",
    "    text = text.lower()\n",
    "    # replacing \"\\\\\" with space\n",
    "    text = text.replace('\\\\', ' ')\n",
    "    text = re.sub(pattern1,'',text) \n",
    "    # print(text)\n",
    "    #using nltk word tokenizer to tokeninze the text\n",
    "    tokens = word_tokenize(text)\n",
    "    # print(tokens)\n",
    "    updated_tokens  = [lemmatizer.lemmatize(tok) for tok in tokens if tok not in punch_set and tok not in stop_words and len(lemmatizer.lemmatize(tok)) >1]\n",
    "    text = \" \".join(updated_tokens)\n",
    "    return text\n"
   ]
  },
  {
   "cell_type": "code",
   "execution_count": 76,
   "metadata": {},
   "outputs": [
    {
     "data": {
      "text/plain": [
       "'dallas mr. morning mr. mrs. news lose job new york belo corp. blc.n said wednesday would cut percent work force mostly dallas morning news grappling recent scandal inflated circulation data provided advertiser'"
      ]
     },
     "execution_count": 76,
     "metadata": {},
     "output_type": "execute_result"
    }
   ],
   "source": [
    "text = \"Dallas. Mr. Morning. mr. mrs. News\\\\ to Lose Jobs  NEW YORK (Reuters) - Belo Corp. &lt;A HREF=\"\"http://www.investor.reuters.com/FullQuote.aspx?ticker=BLC.N target=/stocks/quickinfo/fullquote\"\"&gt;BLC.N&lt;/A&gt; said on Wednesday  it would cut more than 3 percent of its work force, mostly at  its Dallas Morning News, which is grappling with a recent  scandal into inflated circulation data provided to advertisers.\"\n",
    "output = preprocess(text)\n",
    "(output)"
   ]
  },
  {
   "cell_type": "code",
   "execution_count": 77,
   "metadata": {},
   "outputs": [],
   "source": [
    "train_df['preprocessed_text'] = train_df['text'].apply(preprocess)\n",
    "test_df['preprocessed_text'] = test_df['text'].apply(preprocess)\n",
    "# save preprocessed data into preprocessed train and test csv file\n",
    "train_df.to_csv(\"preprocessed_train.csv\")\n",
    "test_df.to_csv(\"preprocessed_test.csv\")"
   ]
  },
  {
   "cell_type": "code",
   "execution_count": 78,
   "metadata": {},
   "outputs": [],
   "source": [
    "# spliting train data into train and validation data.\n",
    "X_Train, X_Val, Y_Train, Y_Val = train_test_split(train_df['preprocessed_text'],train_df['label'], train_size=0.9, random_state=42, shuffle=True)                                  \n",
    "X_Train=X_Train.reset_index(drop=True)\n",
    "X_Val=X_Val.reset_index(drop=True)\n",
    "Y_Train=Y_Train.reset_index(drop=True)\n",
    "Y_Val=Y_Val.reset_index(drop=True)\n",
    "X_Test = test_df['preprocessed_text']\n",
    "Y_Test = test_df['label']"
   ]
  },
  {
   "cell_type": "code",
   "execution_count": 79,
   "metadata": {},
   "outputs": [
    {
     "data": {
      "text/plain": [
       "3238"
      ]
     },
     "execution_count": 79,
     "metadata": {},
     "output_type": "execute_result"
    }
   ],
   "source": [
    "\n",
    "X_train_tokenized = [simple_preprocess(text) for text in X_Train]\n",
    "X_val_tokenized = [simple_preprocess(text) for text in X_Val]\n",
    "X_test_tokenized = [simple_preprocess(text) for text in X_Test]\n",
    "combined_data = X_train_tokenized + X_val_tokenized\n",
    "vocabulary = gensim.corpora.Dictionary(combined_data)\n",
    "# print(vocabulary)\n",
    "# removing words which has document frequency less than 3 and has present in more than 95% of the document\n",
    "vocabulary.filter_extremes(no_below=3, no_above=0.95)\n",
    "vector_size = word2vec_model.vector_size\n",
    "len(vocabulary)\n"
   ]
  },
  {
   "cell_type": "code",
   "execution_count": 80,
   "metadata": {},
   "outputs": [],
   "source": [
    "#function to get average embedding of the sentence\n",
    "def get_avg_embedding(text,model):\n",
    "    vect_avg_embedding=[]\n",
    "    words = simple_preprocess(text)\n",
    "    for word in words:\n",
    "        if word in vocabulary.token2id:\n",
    "            try:\n",
    "                vect_avg_embedding.append(model.get_vector(word))\n",
    "            except KeyError:\n",
    "                pass\n",
    "    if len(vect_avg_embedding)>0:\n",
    "        return sum(vect_avg_embedding)/len(vect_avg_embedding)\n",
    "    else:\n",
    "        return [0]*vector_size"
   ]
  },
  {
   "cell_type": "code",
   "execution_count": 81,
   "metadata": {},
   "outputs": [],
   "source": [
    "X_train_vect_avg = []\n",
    "for text in X_Train:\n",
    "    X_train_vect_avg.append(get_avg_embedding(text,word2vec_model))\n",
    "X_val_vect_avg = []\n",
    "for text in X_Val:\n",
    "    X_val_vect_avg.append(get_avg_embedding(text,word2vec_model))\n",
    "X_test_vect_avg = []\n",
    "for text in X_Test:\n",
    "    X_test_vect_avg.append(get_avg_embedding(text,word2vec_model))\n",
    "# len(X_test_vect_avg)"
   ]
  },
  {
   "cell_type": "code",
   "execution_count": 82,
   "metadata": {},
   "outputs": [],
   "source": [
    "y_val = Y_Val.values\n",
    "y_train = Y_Train.values\n",
    "y_test = Y_Test.values"
   ]
  },
  {
   "cell_type": "code",
   "execution_count": 83,
   "metadata": {},
   "outputs": [],
   "source": [
    "import torch\n",
    "import torch.nn as nn\n",
    "import torch.optim as optim\n",
    "import numpy as np\n",
    "\n",
    "# Convert the lists of embeddings to PyTorch tensors\n",
    "X_train = torch.tensor(X_train_vect_avg, dtype=torch.float32)\n",
    "X_train = X_train.view(len(X_train_vect_avg), -1)\n",
    "X_val = torch.tensor(X_val_vect_avg, dtype=torch.float32)\n",
    "X_val = X_val.view(len(X_val_vect_avg),-1)\n",
    "y_train = torch.tensor(y_train, dtype=torch.long) \n",
    "y_val = torch.tensor(y_val, dtype=torch.long)      \n",
    "X_test= torch.tensor(X_test_vect_avg, dtype=torch.float32)\n",
    "X_test = X_test.view(len(X_test_vect_avg), -1)\n",
    "y_test = torch.tensor(y_test, dtype=torch.long) \n",
    "\n",
    "\n",
    "from torch.utils.data import Dataset, DataLoader\n",
    "class CustomDataset(Dataset):\n",
    "    def __init__(self, X, y):\n",
    "        self.X = X\n",
    "        self.y = y\n",
    "    def __len__(self):\n",
    "        return len(self.y)\n",
    "    def __getitem__(self, idx):\n",
    "        return self.X[idx], self.y[idx]\n",
    "batch_size = 32\n",
    "\n",
    "# Create custom dataset and dataloader\n",
    "dataset = CustomDataset(X_train,y_train)\n",
    "train_dataloader = DataLoader(dataset, batch_size=batch_size, shuffle=True)\n",
    "dataset = CustomDataset(X_val,y_val)\n",
    "val_dataloader = DataLoader(dataset, batch_size=batch_size, shuffle=True)\n",
    "dataset = CustomDataset(X_test,y_test)\n",
    "test_dataloader = DataLoader(dataset, batch_size=batch_size, shuffle=True)\n",
    "\n",
    "# Defining a simple feedforward neural network model for multi-class classification\n",
    "class NeuralNetwork(nn.Module):\n",
    "    def __init__(self, input_size, hidden_size, num_classes):\n",
    "        super(NeuralNetwork, self).__init__()\n",
    "        self.fc1 = nn.Linear(input_size, hidden_size)\n",
    "        self.relu = nn.ReLU()\n",
    "        self.dropout = nn.Dropout(p=0.2)\n",
    "        self.bn1 = nn.BatchNorm1d(hidden_size) \n",
    "        self.fc2 = nn.Linear(hidden_size, hidden_size)\n",
    "        # self.relu = nn.ReLU()\n",
    "        self.fc3 = nn.Linear(hidden_size, num_classes)\n",
    "\n",
    "    def forward(self, x):\n",
    "        x = self.fc1(x)\n",
    "        x = self.bn1(x)\n",
    "        x = self.relu(x)\n",
    "        x = self.dropout(x)\n",
    "        x = self.fc2(x)\n",
    "        x = self.relu(x)\n",
    "        x = self.fc3(x)\n",
    "        return x\n"
   ]
  },
  {
   "cell_type": "code",
   "execution_count": 84,
   "metadata": {},
   "outputs": [
    {
     "name": "stdout",
     "output_type": "stream",
     "text": [
      "Epoch [1/20], Training Loss: 1.1846 , Validation Loss: 1.1451\n",
      "Epoch [1/20], Validation Accuracy: 0.8350\n",
      "Epoch [2/20], Training Loss: 0.7742 , Validation Loss: 0.6201\n",
      "Epoch [2/20], Validation Accuracy: 0.8300\n",
      "Epoch [3/20], Training Loss: 0.5523 , Validation Loss: 0.5088\n",
      "Epoch [3/20], Validation Accuracy: 0.8600\n",
      "Epoch [4/20], Training Loss: 0.4707 , Validation Loss: 0.4309\n",
      "Epoch [4/20], Validation Accuracy: 0.8700\n",
      "Epoch [5/20], Training Loss: 0.4286 , Validation Loss: 0.4566\n",
      "Epoch [5/20], Validation Accuracy: 0.8700\n",
      "Epoch [6/20], Training Loss: 0.3943 , Validation Loss: 0.3974\n",
      "Epoch [6/20], Validation Accuracy: 0.8750\n",
      "Epoch [7/20], Training Loss: 0.3633 , Validation Loss: 0.3964\n",
      "Epoch [7/20], Validation Accuracy: 0.8600\n",
      "Epoch [8/20], Training Loss: 0.3310 , Validation Loss: 0.3828\n",
      "Epoch [8/20], Validation Accuracy: 0.8700\n",
      "Epoch [9/20], Training Loss: 0.3095 , Validation Loss: 0.4013\n",
      "Epoch [9/20], Validation Accuracy: 0.8650\n",
      "Epoch [10/20], Training Loss: 0.2937 , Validation Loss: 0.3813\n",
      "Epoch [10/20], Validation Accuracy: 0.8650\n",
      "Epoch [11/20], Training Loss: 0.2811 , Validation Loss: 0.4161\n",
      "Epoch [11/20], Validation Accuracy: 0.8650\n",
      "Epoch [12/20], Training Loss: 0.2518 , Validation Loss: 0.3635\n",
      "Epoch [12/20], Validation Accuracy: 0.8550\n",
      "Epoch [13/20], Training Loss: 0.2322 , Validation Loss: 0.4048\n",
      "Epoch [13/20], Validation Accuracy: 0.8550\n",
      "Epoch [14/20], Training Loss: 0.2268 , Validation Loss: 0.3945\n",
      "Epoch [14/20], Validation Accuracy: 0.8750\n",
      "Epoch [15/20], Training Loss: 0.2123 , Validation Loss: 0.3985\n",
      "Epoch [15/20], Validation Accuracy: 0.8550\n",
      "Epoch [16/20], Training Loss: 0.1828 , Validation Loss: 0.4276\n",
      "Epoch [16/20], Validation Accuracy: 0.8550\n",
      "Epoch [17/20], Training Loss: 0.1747 , Validation Loss: 0.4054\n",
      "Epoch [17/20], Validation Accuracy: 0.8750\n",
      "Epoch [18/20], Training Loss: 0.1651 , Validation Loss: 0.4198\n",
      "Epoch [18/20], Validation Accuracy: 0.8600\n",
      "Epoch [19/20], Training Loss: 0.1548 , Validation Loss: 0.4364\n",
      "Epoch [19/20], Validation Accuracy: 0.8750\n",
      "Epoch [20/20], Training Loss: 0.1444 , Validation Loss: 0.5154\n",
      "Epoch [20/20], Validation Accuracy: 0.8600\n"
     ]
    }
   ],
   "source": [
    "\n",
    "# Defining hyperparameters\n",
    "input_size = X_train.shape[1]\n",
    "hidden_size = 256\n",
    "num_classes = len(np.unique(y_train))  \n",
    "learning_rate = 0.0001\n",
    "num_epochs = 20\n",
    "# Initialize the model\n",
    "model = NeuralNetwork(input_size, hidden_size, num_classes)\n",
    "\n",
    "# Define loss function and optimizer for multi-class classification\n",
    "criterion = nn.CrossEntropyLoss()  # Cross-entropy loss for multi-class classification\n",
    "optimizer = optim.Adam(model.parameters(), lr=learning_rate)\n",
    "best_val_loss = float('inf')  # Initialize with a large value\n",
    "best_val_accuracy = 0.0\n",
    "# Train the model\n",
    "from sklearn.metrics import accuracy_score\n",
    "for epoch in range(num_epochs):\n",
    "    running_train_loss = 0.0\n",
    "    running_val_loss = 0.0\n",
    "    for inputs, labels in train_dataloader:\n",
    "        # Forward pass\n",
    "        outputs = model(inputs)\n",
    "        # Compute the training loss\n",
    "        loss = criterion(outputs, labels)\n",
    "        # Backward pass and optimization\n",
    "        optimizer.zero_grad()\n",
    "        loss.backward()\n",
    "        optimizer.step()\n",
    "        # Accumulate training loss for printing\n",
    "        running_train_loss += loss.item()\n",
    "\n",
    "    # Validation\n",
    "    model.eval()  # Set model to evaluation mode\n",
    "    with torch.no_grad():\n",
    "        all_predictions = []\n",
    "        all_labels = []\n",
    "        for val_inputs, val_labels in val_dataloader:\n",
    "            val_outputs = model(val_inputs)\n",
    "            val_loss = criterion(val_outputs, val_labels)\n",
    "            running_val_loss += val_loss.item()  \n",
    "            # Calculate accuracy\n",
    "            _, predicted = torch.max(val_outputs, 1)\n",
    "            all_predictions.extend(predicted.tolist())\n",
    "            all_labels.extend(val_labels.tolist())\n",
    "        # Print average validation loss for the epoch\n",
    "        avg_val_loss = running_train_loss/len(train_dataloader)\n",
    "        print(f'Epoch [{epoch+1}/{num_epochs}], Training Loss: {running_train_loss/len(train_dataloader):.4f} , Validation Loss: {running_val_loss/len(val_dataloader):.4f}')\n",
    "        # Calculate accuracy\n",
    "        val_accuracy = accuracy_score(all_labels, all_predictions)\n",
    "        print(f'Epoch [{epoch+1}/{num_epochs}], Validation Accuracy: {val_accuracy:.4f}')\n",
    "    if avg_val_loss < best_val_loss:\n",
    "        best_val_loss = avg_val_loss\n",
    "        torch.save(model.state_dict(), 'best_model_loss.pth')\n",
    "        # print(\"Saved model with lowest validation loss\")\n",
    "    model.train()  # Set model back to training mode\n"
   ]
  },
  {
   "cell_type": "code",
   "execution_count": 85,
   "metadata": {},
   "outputs": [
    {
     "name": "stdout",
     "output_type": "stream",
     "text": [
      "Training Accuracy: 98.39%\n",
      "Validation Accuracy: 86.00%\n",
      "Testing Accuracy: 84.80%\n"
     ]
    }
   ],
   "source": [
    "model = NeuralNetwork(input_size, hidden_size, num_classes)\n",
    "# Load the saved state dict\n",
    "model.load_state_dict(torch.load('best_model_loss.pth'))\n",
    "# Evaluate the model on training data\n",
    "model.eval()  # Set model to evaluation mode\n",
    "with torch.no_grad():\n",
    "    outputs = model(X_train)\n",
    "    _, predictions = torch.max(outputs, 1)\n",
    "    accuracy = (predictions == y_train).float().mean()\n",
    "    print(f'Training Accuracy: {accuracy.item()*100:.2f}%')\n",
    "# Evaluate the model on validation data\n",
    "with torch.no_grad():\n",
    "    outputs = model(X_val)\n",
    "    _, predictions = torch.max(outputs, 1)\n",
    "    accuracy = (predictions == y_val).float().mean()\n",
    "    print(f'Validation Accuracy: {accuracy.item()*100:.2f}%')\n",
    "# Evaluate the model on test data\n",
    "with torch.no_grad():\n",
    "    outputs = model(X_test)\n",
    "    _, predictions = torch.max(outputs, 1)\n",
    "    accuracy = (predictions == y_test).float().mean()\n",
    "    print(f'Testing Accuracy: {accuracy.item()*100:.2f}%')"
   ]
  },
  {
   "cell_type": "code",
   "execution_count": 86,
   "metadata": {},
   "outputs": [
    {
     "name": "stdout",
     "output_type": "stream",
     "text": [
      "F1 score: 0.848\n"
     ]
    }
   ],
   "source": [
    "from sklearn.metrics import f1_score, accuracy_score\n",
    "# test_accuracy = accuracy(y_test,predictions)\n",
    "# print(\"Test Accuracy: \",test_accuracy)\n",
    "f1 = f1_score(y_test, predictions,average='micro')\n",
    "print(\"F1 score:\", f1)"
   ]
  },
  {
   "cell_type": "code",
   "execution_count": 87,
   "metadata": {},
   "outputs": [
    {
     "data": {
      "image/png": "[encoded data removed]",
      "text/plain": [
       "<Figure size 800x600 with 2 Axes>"
      ]
     },
     "metadata": {},
     "output_type": "display_data"
    },
    {
     "name": "stdout",
     "output_type": "stream",
     "text": [
      "Classification Report:\n",
      "              precision    recall  f1-score   support\n",
      "\n",
      "           0       0.82      0.84      0.83       125\n",
      "           1       0.92      0.90      0.91       125\n",
      "           2       0.82      0.78      0.80       125\n",
      "           3       0.83      0.88      0.86       125\n",
      "\n",
      "    accuracy                           0.85       500\n",
      "   macro avg       0.85      0.85      0.85       500\n",
      "weighted avg       0.85      0.85      0.85       500\n",
      "\n"
     ]
    }
   ],
   "source": [
    "import numpy as np\n",
    "import matplotlib.pyplot as plt\n",
    "import seaborn as sns\n",
    "from sklearn.metrics import confusion_matrix, classification_report\n",
    "# Calculate confusion matrix\n",
    "cm = confusion_matrix(y_test, predictions)\n",
    "\n",
    "# Calculate classification report\n",
    "cr = classification_report(y_test, predictions)\n",
    "\n",
    "# Plot confusion matrix\n",
    "# print(\"Confusion Matrix\")\n",
    "plt.figure(figsize=(8, 6))\n",
    "sns.heatmap(cm, annot=True, cmap='Blues', fmt='g', xticklabels=np.unique(y_test), yticklabels=np.unique([predictions]))\n",
    "plt.xlabel('Predicted labels')\n",
    "plt.ylabel('True labels')\n",
    "plt.title('Confusion Matrix')\n",
    "plt.show()\n",
    "\n",
    "# Print classification report\n",
    "print(\"Classification Report:\")\n",
    "print(cr)\n"
   ]
  },
  {
   "cell_type": "code",
   "execution_count": 88,
   "metadata": {},
   "outputs": [],
   "source": [
    "# test_df= test_df.drop(columns=['preprocessed_text','preds'],axis=1)\n",
    "df = pd.read_csv(\"../NLP3/test.csv\")\n",
    "test_df_copy =df\n",
    "test_df_copy.insert(loc=3, column='preds', value=predictions)\n",
    "#saving prediction into w2v_test.csv file \n",
    "test_df_copy.to_csv(\"w2v_test.csv\")"
   ]
  }
 ],
 "metadata": {
  "kernelspec": {
   "display_name": "Python 3",
   "language": "python",
   "name": "python3"
  },
  "language_info": {
   "codemirror_mode": {
    "name": "ipython",
    "version": 3
   },
   "file_extension": ".py",
   "mimetype": "text/x-python",
   "name": "python",
   "nbconvert_exporter": "python",
   "pygments_lexer": "ipython3",
   "version": "3.12.2"
  }
 },
 "nbformat": 4,
 "nbformat_minor": 2
}
