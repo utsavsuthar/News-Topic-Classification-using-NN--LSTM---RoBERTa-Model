{
 "cells": [
  {
   "cell_type": "code",
   "execution_count": 206,
   "metadata": {},
   "outputs": [
    {
     "name": "stderr",
     "output_type": "stream",
     "text": [
      "[nltk_data] Downloading package stopwords to\n",
      "[nltk_data]     /Users/utsavsuthar/nltk_data...\n",
      "[nltk_data]   Package stopwords is already up-to-date!\n",
      "[nltk_data] Downloading package wordnet to\n",
      "[nltk_data]     /Users/utsavsuthar/nltk_data...\n",
      "[nltk_data]   Package wordnet is already up-to-date!\n",
      "[nltk_data] Downloading package punkt to\n",
      "[nltk_data]     /Users/utsavsuthar/nltk_data...\n",
      "[nltk_data]   Package punkt is already up-to-date!\n"
     ]
    }
   ],
   "source": [
    "#Importing neccessary libararies\n",
    "import pandas as pd\n",
    "import nltk\n",
    "import spacy\n",
    "import re\n",
    "from nltk.corpus import stopwords\n",
    "from nltk.tokenize import word_tokenize\n",
    "from nltk.stem import WordNetLemmatizer\n",
    "from sklearn.model_selection import train_test_split\n",
    "nltk.download('stopwords')\n",
    "nltk.download('wordnet')\n",
    "nltk.download('punkt')\n",
    "import numpy as np\n",
    "import string\n",
    "import torch\n",
    "import torch.nn as nn\n",
    "from torch.utils.data import Dataset\n",
    "from torch.utils.data import DataLoader\n",
    "import numpy as np\n",
    "import pandas as pd\n",
    "from sklearn.model_selection import train_test_split\n",
    "from tqdm import tqdm\n",
    "import torch.optim as optim\n",
    "import warnings\n",
    "import gensim\n",
    "import gensim.downloader\n",
    "from gensim.models import Word2Vec\n",
    "from gensim.utils import simple_preprocess\n",
    "warnings.filterwarnings(\"ignore\")"
   ]
  },
  {
   "cell_type": "code",
   "execution_count": 207,
   "metadata": {},
   "outputs": [
    {
     "data": {
      "text/html": [
       "<div>\n",
       "<style scoped>\n",
       "    .dataframe tbody tr th:only-of-type {\n",
       "        vertical-align: middle;\n",
       "    }\n",
       "\n",
       "    .dataframe tbody tr th {\n",
       "        vertical-align: top;\n",
       "    }\n",
       "\n",
       "    .dataframe thead th {\n",
       "        text-align: right;\n",
       "    }\n",
       "</style>\n",
       "<table border=\"1\" class=\"dataframe\">\n",
       "  <thead>\n",
       "    <tr style=\"text-align: right;\">\n",
       "      <th></th>\n",
       "      <th>Unnamed: 0</th>\n",
       "      <th>index</th>\n",
       "      <th>text</th>\n",
       "      <th>label</th>\n",
       "      <th>preprocessed_text</th>\n",
       "    </tr>\n",
       "  </thead>\n",
       "  <tbody>\n",
       "    <tr>\n",
       "      <th>0</th>\n",
       "      <td>0</td>\n",
       "      <td>0</td>\n",
       "      <td>Detainees seen as minimal threat WASHINGTON --...</td>\n",
       "      <td>0</td>\n",
       "      <td>detainee seen minimal threat washington allege...</td>\n",
       "    </tr>\n",
       "    <tr>\n",
       "      <th>1</th>\n",
       "      <td>1</td>\n",
       "      <td>1</td>\n",
       "      <td>Japan's army works out plan to cope with North...</td>\n",
       "      <td>0</td>\n",
       "      <td>japan army work plan cope north korean terror ...</td>\n",
       "    </tr>\n",
       "    <tr>\n",
       "      <th>2</th>\n",
       "      <td>2</td>\n",
       "      <td>2</td>\n",
       "      <td>UN council arrives in Nairobi UN Security Coun...</td>\n",
       "      <td>0</td>\n",
       "      <td>un council arrives nairobi un security council...</td>\n",
       "    </tr>\n",
       "    <tr>\n",
       "      <th>3</th>\n",
       "      <td>3</td>\n",
       "      <td>3</td>\n",
       "      <td>APEC Ministers Urge New Effort on Trade Talks ...</td>\n",
       "      <td>0</td>\n",
       "      <td>apec minister urge new effort trade talk pacif...</td>\n",
       "    </tr>\n",
       "    <tr>\n",
       "      <th>4</th>\n",
       "      <td>4</td>\n",
       "      <td>4</td>\n",
       "      <td>At Least Five Dead in Russia Mine Blast (Reute...</td>\n",
       "      <td>0</td>\n",
       "      <td>least five dead russia mine blast reuters leas...</td>\n",
       "    </tr>\n",
       "  </tbody>\n",
       "</table>\n",
       "</div>"
      ],
      "text/plain": [
       "   Unnamed: 0  index                                               text  \\\n",
       "0           0      0  Detainees seen as minimal threat WASHINGTON --...   \n",
       "1           1      1  Japan's army works out plan to cope with North...   \n",
       "2           2      2  UN council arrives in Nairobi UN Security Coun...   \n",
       "3           3      3  APEC Ministers Urge New Effort on Trade Talks ...   \n",
       "4           4      4  At Least Five Dead in Russia Mine Blast (Reute...   \n",
       "\n",
       "   label                                  preprocessed_text  \n",
       "0      0  detainee seen minimal threat washington allege...  \n",
       "1      0  japan army work plan cope north korean terror ...  \n",
       "2      0  un council arrives nairobi un security council...  \n",
       "3      0  apec minister urge new effort trade talk pacif...  \n",
       "4      0  least five dead russia mine blast reuters leas...  "
      ]
     },
     "execution_count": 207,
     "metadata": {},
     "output_type": "execute_result"
    }
   ],
   "source": [
    "# read preprocessed train and test file\n",
    "train_df = pd.read_csv(\"../TASK1(A)/preprocessed_train.csv\")\n",
    "test_df = pd.read_csv(\"../TASK1(A)/preprocessed_test.csv\")\n",
    "test_df.head()\n"
   ]
  },
  {
   "cell_type": "code",
   "execution_count": 208,
   "metadata": {},
   "outputs": [],
   "source": [
    "# spliting train data into train and validation data.\n",
    "X_Train, X_Val, Y_Train, Y_Val = train_test_split(train_df['preprocessed_text'],train_df['label'], train_size=0.9, random_state=42, shuffle=True)                                  \n",
    "X_Train=X_Train.reset_index(drop=True)\n",
    "X_Val=X_Val.reset_index(drop=True)\n",
    "Y_Train=Y_Train.reset_index(drop=True)\n",
    "Y_Val=Y_Val.reset_index(drop=True)\n",
    "# Y_Train.head()\n",
    "X_Test = test_df['preprocessed_text']\n",
    "Y_Test = test_df['label']\n",
    "y_val = Y_Val.values\n",
    "y_train = Y_Train.values\n",
    "y_test = Y_Test.values"
   ]
  },
  {
   "cell_type": "code",
   "execution_count": 209,
   "metadata": {},
   "outputs": [
    {
     "name": "stdout",
     "output_type": "stream",
     "text": [
      "Average Sequence Length of the Document is: 24.61888888888889\n"
     ]
    },
    {
     "data": {
      "text/plain": [
       "25"
      ]
     },
     "execution_count": 209,
     "metadata": {},
     "output_type": "execute_result"
    }
   ],
   "source": [
    "lengths = []\n",
    "import math\n",
    "for i in range(len(X_Train)):\n",
    "    tokens= X_Train[i].split()\n",
    "    lengths.append(len(tokens))\n",
    "avg_len =sum(lengths)/len(X_Train)\n",
    "print(\"Average Sequence Length of the Document is:\",avg_len)\n",
    "max_seq_len = math.ceil(avg_len)\n",
    "max_seq_len "
   ]
  },
  {
   "cell_type": "code",
   "execution_count": 210,
   "metadata": {},
   "outputs": [],
   "source": [
    "#importing pretrained word2vector model on google news\n",
    "word2vec_model = gensim.downloader.load('word2vec-google-news-300')"
   ]
  },
  {
   "cell_type": "code",
   "execution_count": 211,
   "metadata": {},
   "outputs": [
    {
     "data": {
      "text/plain": [
       "10442"
      ]
     },
     "execution_count": 211,
     "metadata": {},
     "output_type": "execute_result"
    }
   ],
   "source": [
    "\n",
    "# texts = [text.split() for text in train_df['preprocessed_text']]\n",
    "\n",
    "X_train_tokenized = [text.split() for text in X_Train]\n",
    "X_val_tokenized = [text.split() for text in X_Val]\n",
    "X_test_tokenized = [text.split() for text in X_Test]\n",
    "combined_data = X_train_tokenized + X_val_tokenized\n",
    "vocabulary = gensim.corpora.Dictionary(combined_data)\n",
    "# removing words which has document frequency less than 3 and has present in more than 95% of the document\n",
    "vocabulary.filter_extremes(no_below=1, no_above=0.95)\n",
    "vector_size = word2vec_model.vector_size\n",
    "len(vocabulary)"
   ]
  },
  {
   "cell_type": "code",
   "execution_count": 212,
   "metadata": {},
   "outputs": [
    {
     "name": "stdout",
     "output_type": "stream",
     "text": [
      "1800 200 500\n"
     ]
    }
   ],
   "source": [
    "#function to get word embeddings \n",
    "def getembeddings(text,max_seq_len,vocabulary):\n",
    "    matrix = []\n",
    "    c = 0\n",
    "    # print(len(simple_preprocess(text)))\n",
    "    for word in text.split():    \n",
    "        if word in vocabulary.token2id:\n",
    "            if c <max_seq_len:\n",
    "     \n",
    "                try:\n",
    "                    matrix.append(word2vec_model.get_vector(word))\n",
    "                    c+=1\n",
    "                except KeyError:\n",
    "                    pass\n",
    "        if c > max_seq_len:\n",
    "            break\n",
    "    # print(c)\n",
    "    \n",
    "    while(c < max_seq_len):\n",
    "        matrix.append(np.zeros(word2vec_model.vector_size))\n",
    "        c+=1\n",
    "    # print(c)\n",
    "    return matrix\n",
    "X_train_matrix = []\n",
    "for text in X_Train:\n",
    "    temp = []\n",
    "    temp = getembeddings(text,max_seq_len,vocabulary)\n",
    "    X_train_matrix.append(temp)\n",
    "X_val_matrix = []\n",
    "for text in X_Val:\n",
    "    temp = []\n",
    "    temp = getembeddings(text,max_seq_len,vocabulary)\n",
    "    X_val_matrix.append(temp)\n",
    "X_test_matrix = []\n",
    "for text in X_Test:\n",
    "    temp = []\n",
    "    temp = getembeddings(text,max_seq_len,vocabulary)\n",
    "    X_test_matrix.append(temp)\n",
    "print(len(X_train_matrix),len(X_val_matrix),len(X_test_matrix))\n",
    "# len(X_val_matrix[199])"
   ]
  },
  {
   "cell_type": "code",
   "execution_count": 213,
   "metadata": {},
   "outputs": [
    {
     "name": "stdout",
     "output_type": "stream",
     "text": [
      "Shape of padded_sentence_vectors: torch.Size([1800, 25, 300])\n",
      "Shape of padded_sentence_vectors: torch.Size([200, 25, 300])\n",
      "Shape of padded_sentence_vectors: torch.Size([500, 25, 300])\n"
     ]
    }
   ],
   "source": [
    "# X_train_matrix = np.array(X_train_matrix)\n",
    "X_train_matrix= torch.tensor(X_train_matrix, dtype=torch.float32)\n",
    "X_val_matrix= torch.tensor(X_val_matrix, dtype=torch.float32)\n",
    "X_test_matrix= torch.tensor(X_test_matrix, dtype=torch.float32)\n",
    "y_train= torch.tensor(y_train, dtype=torch.long)\n",
    "y_val= torch.tensor(y_val, dtype=torch.long)\n",
    "y_test= torch.tensor(y_test, dtype=torch.long)\n",
    "print(\"Shape of padded_sentence_vectors:\", X_train_matrix.shape)\n",
    "print(\"Shape of padded_sentence_vectors:\", X_val_matrix.shape)\n",
    "print(\"Shape of padded_sentence_vectors:\", X_test_matrix.shape)\n",
    "# print(\"Word2Vec representation of the first sentence:\")"
   ]
  },
  {
   "cell_type": "code",
   "execution_count": 214,
   "metadata": {},
   "outputs": [],
   "source": [
    "import torch\n",
    "import torch.nn as nn\n",
    "import torch.optim as optim\n",
    "from torch.utils.data import Dataset, DataLoader\n",
    "\n",
    "\n",
    "class CustomDataset(Dataset):\n",
    "    def __init__(self, X, y):\n",
    "        self.X = X\n",
    "        self.y = y\n",
    "    def __len__(self):\n",
    "        return len(self.y)\n",
    "    def __getitem__(self, idx):\n",
    "        return self.X[idx], self.y[idx]\n",
    "batch_size = 32\n",
    "\n",
    "# Create custom dataset and dataloader\n",
    "dataset = CustomDataset(X_train_matrix,y_train)\n",
    "train_dataloader = DataLoader(dataset, batch_size=batch_size, shuffle=True)\n",
    "dataset = CustomDataset(X_val_matrix,y_val)\n",
    "val_dataloader = DataLoader(dataset, batch_size=batch_size, shuffle=True)\n",
    "dataset = CustomDataset(X_test_matrix,y_test)\n",
    "test_dataloader = DataLoader(dataset, batch_size=batch_size, shuffle=True)\n"
   ]
  },
  {
   "cell_type": "code",
   "execution_count": 215,
   "metadata": {},
   "outputs": [
    {
     "name": "stdout",
     "output_type": "stream",
     "text": [
      "torch.Size([32, 25, 300]) torch.Size([32])\n"
     ]
    }
   ],
   "source": [
    "for X,y in train_dataloader:\n",
    "    print(X.shape,y.shape)\n",
    "    break\n"
   ]
  },
  {
   "cell_type": "markdown",
   "metadata": {},
   "source": [
    "# RNN Model"
   ]
  },
  {
   "cell_type": "code",
   "execution_count": 234,
   "metadata": {},
   "outputs": [],
   "source": [
    "class BidirectionalRNNClassifier(nn.Module):\n",
    "    def __init__(self, input_size, hidden_dim, output_size, num_layers=1, dropout=0.5):\n",
    "        super(BidirectionalRNNClassifier, self).__init__()\n",
    "        self.embedding = nn.Embedding(len(vocabulary), vector_size)\n",
    "        self.rnn = nn.RNN(input_size, hidden_dim, num_layers=num_layers, bidirectional=True, dropout=dropout, batch_first=True)\n",
    "        # Calculate output size of linear layer based on bidirectional processing\n",
    "        self.output_size = output_size\n",
    "        self.fc = nn.Linear(hidden_dim * 2, output_size)\n",
    "        self.dropout = nn.Dropout(dropout)\n",
    "        # self.relu = nn.ReLU()\n",
    "        self.softmax = nn.Softmax(dim=1)\n",
    "\n",
    "    def forward(self, x):\n",
    "        rnn_output, _ = self.rnn(x)\n",
    "        # passing average of outputs of RNN\n",
    "        avg_pooled = torch.mean(rnn_output, dim=1)\n",
    "        dropped = self.dropout(avg_pooled)\n",
    "        fc_out = self.fc(dropped)\n",
    "        return fc_out\n",
    "        # return self.softmax(fc_out)\n",
    "\n",
    "# Example parameters\n",
    "input_size = len(X_train_matrix[0][0])  # embedding dimension\n",
    "hidden_size = 32\n",
    "num_layers = 1\n",
    "output_size = 4  # Number of classes for classification\n",
    "dropout = 0.5\n"
   ]
  },
  {
   "cell_type": "code",
   "execution_count": 257,
   "metadata": {},
   "outputs": [
    {
     "name": "stdout",
     "output_type": "stream",
     "text": [
      "Epoch [1/10], Training Loss: 1.1692 , Validation Loss: 0.8142\n",
      "Epoch [1/10], Validation Accuracy: 0.8100\n",
      "Epoch [2/10], Training Loss: 0.6096 , Validation Loss: 0.4883\n",
      "Epoch [2/10], Validation Accuracy: 0.8350\n",
      "Epoch [3/10], Training Loss: 0.4451 , Validation Loss: 0.5216\n",
      "Epoch [3/10], Validation Accuracy: 0.8300\n",
      "Epoch [4/10], Training Loss: 0.3948 , Validation Loss: 0.3923\n",
      "Epoch [4/10], Validation Accuracy: 0.8900\n",
      "Epoch [5/10], Training Loss: 0.3660 , Validation Loss: 0.4155\n",
      "Epoch [5/10], Validation Accuracy: 0.8700\n",
      "Epoch [6/10], Training Loss: 0.3452 , Validation Loss: 0.4724\n",
      "Epoch [6/10], Validation Accuracy: 0.8700\n",
      "Epoch [7/10], Training Loss: 0.3163 , Validation Loss: 0.4922\n",
      "Epoch [7/10], Validation Accuracy: 0.8250\n",
      "Epoch [8/10], Training Loss: 0.2919 , Validation Loss: 0.3933\n",
      "Epoch [8/10], Validation Accuracy: 0.8550\n",
      "Epoch [9/10], Training Loss: 0.2867 , Validation Loss: 0.3940\n",
      "Epoch [9/10], Validation Accuracy: 0.8400\n",
      "Epoch [10/10], Training Loss: 0.2774 , Validation Loss: 0.4016\n",
      "Epoch [10/10], Validation Accuracy: 0.8700\n"
     ]
    }
   ],
   "source": [
    "# Initialize the model\n",
    "model = BidirectionalRNNClassifier(input_size, hidden_size, output_size)\n",
    "criterion = nn.CrossEntropyLoss()  # Assuming multi-class classification\n",
    "optimizer = optim.Adam(model.parameters(), lr=0.001)\n",
    "\n",
    "# Train the model\n",
    "from sklearn.metrics import accuracy_score\n",
    "# Train the model\n",
    "best_val_loss = float('inf')  # Initialize with a large value\n",
    "best_val_accuracy = 0.0\n",
    "num_epochs = 10\n",
    "for epoch in range(num_epochs):\n",
    "    model.train()  # Set model back to training mode\n",
    "    running_train_loss = 0.0\n",
    "    running_val_loss = 0.0\n",
    "    for inputs, labels in train_dataloader:\n",
    "        # Forward pass\n",
    "        outputs = model(inputs)\n",
    "        # Compute the training loss\n",
    "        loss = criterion(outputs, labels)\n",
    "        # Backward pass and optimization\n",
    "        optimizer.zero_grad()\n",
    "        loss.backward()\n",
    "        optimizer.step()\n",
    "        running_train_loss += loss.item()\n",
    "\n",
    "    # Validation\n",
    "    model.eval()  # Set model to evaluation mode\n",
    "    with torch.no_grad():\n",
    "        all_predictions = []\n",
    "        all_labels = []\n",
    "        for val_inputs, val_labels in val_dataloader:\n",
    "            val_outputs = model(val_inputs)\n",
    "            val_loss = criterion(val_outputs, val_labels)\n",
    "            running_val_loss += val_loss.item() \n",
    "            # Calculate accuracy\n",
    "            _, predicted = torch.max(val_outputs, 1)\n",
    "            all_predictions.extend(predicted.tolist())\n",
    "            all_labels.extend(val_labels.tolist())\n",
    "        avg_val_loss = running_val_loss / len(val_dataloader)\n",
    "        # Print average validation loss for the epoch\n",
    "        print(f'Epoch [{epoch+1}/{num_epochs}], Training Loss: {running_train_loss/len(train_dataloader):.4f} , Validation Loss: {running_val_loss/len(val_dataloader):.4f}')\n",
    "        \n",
    "        # Calculate accuracy\n",
    "        val_accuracy = accuracy_score(all_labels, all_predictions)\n",
    "        print(f'Epoch [{epoch+1}/{num_epochs}], Validation Accuracy: {val_accuracy:.4f}')\n",
    "    if avg_val_loss < best_val_loss:\n",
    "        best_val_loss = avg_val_loss\n",
    "        torch.save(model.state_dict(), 'best_model_loss_rnn.pth')\n",
    "    model.train()  # Set model back to training mode\n"
   ]
  },
  {
   "cell_type": "code",
   "execution_count": 258,
   "metadata": {},
   "outputs": [
    {
     "name": "stdout",
     "output_type": "stream",
     "text": [
      "RNN Model Train, Test, Val Accuracies\n",
      "Training Accuracy: 88.67%\n",
      "Validation Accuracy: 89.00%\n",
      "Testing Accuracy: 85.20%\n"
     ]
    }
   ],
   "source": [
    "print(\"RNN Model Train, Test, Val Accuracies\")\n",
    "model = BidirectionalRNNClassifier(input_size, hidden_size, output_size)\n",
    "# Load the saved state dict\n",
    "model.load_state_dict(torch.load('best_model_loss_rnn.pth'))\n",
    "model.eval()  # Set model to evaluation mode\n",
    "with torch.no_grad():\n",
    "    outputs = model(X_train_matrix)\n",
    "    _, predictions = torch.max(outputs, 1)\n",
    "    accuracy = (predictions == y_train).float().mean()\n",
    "    print(f'Training Accuracy: {accuracy.item()*100:.2f}%')\n",
    "# Evaluate the model on validation data\n",
    "with torch.no_grad():\n",
    "    outputs = model(X_val_matrix)\n",
    "    _, predictions = torch.max(outputs, 1)\n",
    "    accuracy = (predictions == y_val).float().mean()\n",
    "    print(f'Validation Accuracy: {accuracy.item()*100:.2f}%')\n",
    "# Evaluate the model on test data\n",
    "with torch.no_grad():\n",
    "    outputs = model(X_test_matrix)\n",
    "    _, predictions = torch.max(outputs, 1)\n",
    "    accuracy = (predictions == y_test).float().mean()\n",
    "    print(f'Testing Accuracy: {accuracy.item()*100:.2f}%')"
   ]
  },
  {
   "cell_type": "code",
   "execution_count": 259,
   "metadata": {},
   "outputs": [
    {
     "name": "stdout",
     "output_type": "stream",
     "text": [
      "RNN Model F1 score: 0.852\n"
     ]
    }
   ],
   "source": [
    "from sklearn.metrics import f1_score, accuracy_score\n",
    "# test_accuracy = accuracy(y_test,predictions)\n",
    "# print(\"Test Accuracy: \",test_accuracy)\n",
    "f1 = f1_score(y_test, predictions,average='micro')\n",
    "print(\"RNN Model F1 score:\", f1)"
   ]
  },
  {
   "cell_type": "code",
   "execution_count": 260,
   "metadata": {},
   "outputs": [
    {
     "data": {
      "image/png": "[encoded data removed]",
      "text/plain": [
       "<Figure size 800x600 with 2 Axes>"
      ]
     },
     "metadata": {},
     "output_type": "display_data"
    },
    {
     "name": "stdout",
     "output_type": "stream",
     "text": [
      "Classification Report for RNN Model:\n",
      "              precision    recall  f1-score   support\n",
      "\n",
      "           0       0.94      0.80      0.87       125\n",
      "           1       0.91      0.93      0.92       125\n",
      "           2       0.77      0.84      0.80       125\n",
      "           3       0.81      0.84      0.82       125\n",
      "\n",
      "    accuracy                           0.85       500\n",
      "   macro avg       0.86      0.85      0.85       500\n",
      "weighted avg       0.86      0.85      0.85       500\n",
      "\n"
     ]
    }
   ],
   "source": [
    "import numpy as np\n",
    "import matplotlib.pyplot as plt\n",
    "import seaborn as sns\n",
    "from sklearn.metrics import confusion_matrix, classification_report\n",
    "# Calculate confusion matrix\n",
    "\n",
    "cm = confusion_matrix(y_test, predictions)\n",
    "\n",
    "# Calculate classification report\n",
    "cr = classification_report(y_test, predictions)\n",
    "\n",
    "# Plot confusion matrix\n",
    "# print(\"Confusion Matrix\")\n",
    "plt.figure(figsize=(8, 6))\n",
    "sns.heatmap(cm, annot=True, cmap='Blues', fmt='g', xticklabels=np.unique(y_test), yticklabels=np.unique([predictions]))\n",
    "plt.xlabel('Predicted labels')\n",
    "plt.ylabel('True labels')\n",
    "plt.title('RNN Model Confusion Matrix')\n",
    "plt.show()\n",
    "\n",
    "# Print classification report\n",
    "print(\"Classification Report for RNN Model:\")\n",
    "print(cr)\n"
   ]
  },
  {
   "cell_type": "code",
   "execution_count": 261,
   "metadata": {},
   "outputs": [],
   "source": [
    "# test_df= test_df.drop(columns=['preprocessed_text','preds'],axis=1)\n",
    "df = pd.read_csv(\"../NLP3/test.csv\")\n",
    "test_df_copy = df\n",
    "test_df_copy.insert(loc=3, column='preds', value=predictions)\n",
    "#saving prediction into w2v_test.csv file \n",
    "test_df_copy.to_csv(\"rnn_test.csv\")"
   ]
  },
  {
   "cell_type": "markdown",
   "metadata": {},
   "source": [
    "# LSTM Model"
   ]
  },
  {
   "cell_type": "code",
   "execution_count": 262,
   "metadata": {},
   "outputs": [],
   "source": [
    "\n",
    "class LSTMlastm_Model(nn.Module):\n",
    "    def __init__(self, input_size, hidden_size, num_layers, output_size,dropout):\n",
    "        super(LSTMlastm_Model, self).__init__()\n",
    "        self.hidden_size = hidden_size\n",
    "        self.num_layers = num_layers\n",
    "        self.lstm = nn.LSTM(input_size, hidden_size, num_layers, batch_first=True)\n",
    "        self.dropout = nn.Dropout(dropout)\n",
    "        self.fc = nn.Linear(hidden_size, output_size)\n",
    "        \n",
    "    def forward(self, x):\n",
    "        # Initialize hidden state with zeros\n",
    "        h0 = torch.zeros(self.num_layers, x.size(0), self.hidden_size).to(x.device)\n",
    "        \n",
    "        # Initialize cell state with zeros\n",
    "        c0 = torch.zeros(self.num_layers, x.size(0), self.hidden_size).to(x.device)\n",
    "        \n",
    "        # Forward propagate LSTM\n",
    "        out, _ = self.lstm(x, (h0, c0))  # out: tensor of shape (batch_size, seq_length, hidden_size)\n",
    "        avg_pooled = torch.mean(out,dim=1)\n",
    "        droped = self.dropout(avg_pooled)\n",
    "        # Decode the hidden state of the last time step\n",
    "        out = self.fc(droped)\n",
    "        return out\n",
    "\n",
    "input_size = len(X_train_matrix[0][0])\n",
    "hidden_size = 32\n",
    "num_layers = 1\n",
    "output_size = 4\n"
   ]
  },
  {
   "cell_type": "code",
   "execution_count": 263,
   "metadata": {},
   "outputs": [
    {
     "name": "stdout",
     "output_type": "stream",
     "text": [
      "Epoch [1/10], Training Loss: 0.7175 , Validation Loss: 0.4565\n",
      "Epoch [1/10], Validation Accuracy: 0.8700\n",
      "Epoch [2/10], Training Loss: 0.4370 , Validation Loss: 0.3471\n",
      "Epoch [2/10], Validation Accuracy: 0.8750\n",
      "Epoch [3/10], Training Loss: 0.3623 , Validation Loss: 0.4144\n",
      "Epoch [3/10], Validation Accuracy: 0.8650\n",
      "Epoch [4/10], Training Loss: 0.2977 , Validation Loss: 0.3806\n",
      "Epoch [4/10], Validation Accuracy: 0.8600\n",
      "Epoch [5/10], Training Loss: 0.2503 , Validation Loss: 0.3872\n",
      "Epoch [5/10], Validation Accuracy: 0.8950\n",
      "Epoch [6/10], Training Loss: 0.2152 , Validation Loss: 0.4005\n",
      "Epoch [6/10], Validation Accuracy: 0.8600\n",
      "Epoch [7/10], Training Loss: 0.1744 , Validation Loss: 0.5616\n",
      "Epoch [7/10], Validation Accuracy: 0.8700\n",
      "Epoch [8/10], Training Loss: 0.1807 , Validation Loss: 0.4359\n",
      "Epoch [8/10], Validation Accuracy: 0.8550\n",
      "Epoch [9/10], Training Loss: 0.1255 , Validation Loss: 0.6065\n",
      "Epoch [9/10], Validation Accuracy: 0.8450\n",
      "Epoch [10/10], Training Loss: 0.1199 , Validation Loss: 0.6275\n",
      "Epoch [10/10], Validation Accuracy: 0.8250\n"
     ]
    }
   ],
   "source": [
    "# Create the lastm_model\n",
    "lstm_model = LSTMlastm_Model(input_size, hidden_size, num_layers, output_size,dropout=0.5)\n",
    "criterion = nn.CrossEntropyLoss()\n",
    "optimizer = optim.Adam(lstm_model.parameters(),lr=0.01)\n",
    "# Train the lstm_model\n",
    "num_epochs = 10\n",
    "best_val_loss = float('inf')  # Initialize with a large value\n",
    "best_val_accuracy = 0.0\n",
    "for epoch in range(num_epochs):\n",
    "    running_train_loss = 0.0\n",
    "    running_val_loss = 0.0\n",
    "    for inputs, labels in train_dataloader:\n",
    "        # Forward pass\n",
    "        outputs = lstm_model(inputs)\n",
    "        # Compute the training loss\n",
    "        loss = criterion(outputs, labels)\n",
    "        \n",
    "        # Backward pass and optimization\n",
    "        optimizer.zero_grad()\n",
    "        loss.backward()\n",
    "        optimizer.step()\n",
    "        # Accumulate training loss for printing\n",
    "        running_train_loss += loss.item()\n",
    "    \n",
    "\n",
    "    # Validation\n",
    "    lstm_model.eval()  # Set lstm_model to evaluation mode\n",
    "    with torch.no_grad():\n",
    "        all_predictions = []\n",
    "        all_labels = []\n",
    "        for val_inputs, val_labels in val_dataloader:\n",
    "            val_outputs = lstm_model(val_inputs)\n",
    "            val_loss = criterion(val_outputs, val_labels)\n",
    "            running_val_loss += val_loss.item()\n",
    "            \n",
    "            # Calculate accuracy\n",
    "            _, predicted = torch.max(val_outputs, 1)\n",
    "            all_predictions.extend(predicted.tolist())\n",
    "            all_labels.extend(val_labels.tolist())\n",
    "        avg_val_loss = running_val_loss / len(val_dataloader)\n",
    "        # Print average validation loss for the epoch\n",
    "        print(f'Epoch [{epoch+1}/{num_epochs}], Training Loss: {running_train_loss/len(train_dataloader):.4f} , Validation Loss: {running_val_loss/len(val_dataloader):.4f}')\n",
    "        \n",
    "        # Calculate accuracy\n",
    "        val_accuracy = accuracy_score(all_labels, all_predictions)\n",
    "        print(f'Epoch [{epoch+1}/{num_epochs}], Validation Accuracy: {val_accuracy:.4f}')\n",
    "    if avg_val_loss < best_val_loss:\n",
    "        best_val_loss = avg_val_loss\n",
    "        torch.save(lstm_model.state_dict(), 'best_model_loss_lstm.pth')\n",
    "    lstm_model.train()  # Set lstm_model back to training mode"
   ]
  },
  {
   "cell_type": "code",
   "execution_count": 264,
   "metadata": {},
   "outputs": [
    {
     "name": "stdout",
     "output_type": "stream",
     "text": [
      "LSTM Model Accuracies\n",
      "Training Accuracy: 90.17%\n",
      "Validation Accuracy: 87.50%\n",
      "Testing Accuracy: 85.80%\n"
     ]
    }
   ],
   "source": [
    "lstm_model = LSTMlastm_Model(input_size, hidden_size, num_layers, output_size,dropout=0.5)\n",
    "# Load the saved state dict\n",
    "print(\"LSTM Model Accuracies\")\n",
    "lstm_model.load_state_dict(torch.load('best_model_loss_lstm.pth'))\n",
    "lstm_model.eval()  # Set lstm_model to evaluation mode\n",
    "with torch.no_grad():\n",
    "    outputs = lstm_model(X_train_matrix)\n",
    "    _, predictions = torch.max(outputs, 1)\n",
    "    accuracy = (predictions == y_train).float().mean()\n",
    "    print(f'Training Accuracy: {accuracy.item()*100:.2f}%')\n",
    "# Evaluate the lstm_model on validation data\n",
    "with torch.no_grad():\n",
    "    outputs = lstm_model(X_val_matrix)\n",
    "    _, predictions = torch.max(outputs, 1)\n",
    "    accuracy = (predictions == y_val).float().mean()\n",
    "    print(f'Validation Accuracy: {accuracy.item()*100:.2f}%')\n",
    "# Evaluate the lstm_model on test data\n",
    "with torch.no_grad():\n",
    "    outputs = lstm_model(X_test_matrix)\n",
    "    _, predictions = torch.max(outputs, 1)\n",
    "    accuracy = (predictions == y_test).float().mean()\n",
    "    print(f'Testing Accuracy: {accuracy.item()*100:.2f}%')"
   ]
  },
  {
   "cell_type": "code",
   "execution_count": 265,
   "metadata": {},
   "outputs": [
    {
     "name": "stdout",
     "output_type": "stream",
     "text": [
      "F1 score for LSTM Model: 0.858\n"
     ]
    }
   ],
   "source": [
    "from sklearn.metrics import f1_score, accuracy_score\n",
    "f1 = f1_score(y_test, predictions,average='micro')\n",
    "print(\"F1 score for LSTM Model:\", f1)"
   ]
  },
  {
   "cell_type": "code",
   "execution_count": 266,
   "metadata": {},
   "outputs": [
    {
     "data": {
      "image/png": "[encoded data removed]",
      "text/plain": [
       "<Figure size 800x600 with 2 Axes>"
      ]
     },
     "metadata": {},
     "output_type": "display_data"
    },
    {
     "name": "stdout",
     "output_type": "stream",
     "text": [
      "Classification Report for LSTM Model:\n",
      "              precision    recall  f1-score   support\n",
      "\n",
      "           0       0.92      0.82      0.87       125\n",
      "           1       0.91      0.91      0.91       125\n",
      "           2       0.77      0.86      0.82       125\n",
      "           3       0.85      0.83      0.84       125\n",
      "\n",
      "    accuracy                           0.86       500\n",
      "   macro avg       0.86      0.86      0.86       500\n",
      "weighted avg       0.86      0.86      0.86       500\n",
      "\n"
     ]
    }
   ],
   "source": [
    "import numpy as np\n",
    "import matplotlib.pyplot as plt\n",
    "import seaborn as sns\n",
    "from sklearn.metrics import confusion_matrix, classification_report\n",
    "# Calculate confusion matrix\n",
    "cm = confusion_matrix(y_test, predictions)\n",
    "\n",
    "# Calculate classification report\n",
    "cr = classification_report(y_test, predictions)\n",
    "\n",
    "# Plot confusion matrix\n",
    "# print(\"Confusion Matrix\")\n",
    "plt.figure(figsize=(8, 6))\n",
    "sns.heatmap(cm, annot=True, cmap='Blues', fmt='g', xticklabels=np.unique(y_test), yticklabels=np.unique([predictions]))\n",
    "plt.xlabel('Predicted labels')\n",
    "plt.ylabel('True labels')\n",
    "plt.title('LSTM Model Confusion Matrix')\n",
    "plt.show()\n",
    "\n",
    "# Print classification report\n",
    "print(\"Classification Report for LSTM Model:\")\n",
    "print(cr)\n"
   ]
  },
  {
   "cell_type": "code",
   "execution_count": 267,
   "metadata": {},
   "outputs": [],
   "source": [
    "# test_df= test_df.drop(columns=['preprocessed_text','preds'],axis=1)\n",
    "df = pd.read_csv(\"../NLP3/test.csv\")\n",
    "test_df_copy = df\n",
    "test_df_copy.insert(loc=3, column='preds', value=predictions)\n",
    "#saving prediction into w2v_test.csv file \n",
    "test_df_copy.to_csv(\"lstm_test.csv\")"
   ]
  }
 ],
 "metadata": {
  "kernelspec": {
   "display_name": "Python 3",
   "language": "python",
   "name": "python3"
  },
  "language_info": {
   "codemirror_mode": {
    "name": "ipython",
    "version": 3
   },
   "file_extension": ".py",
   "mimetype": "text/x-python",
   "name": "python",
   "nbconvert_exporter": "python",
   "pygments_lexer": "ipython3",
   "version": "3.12.2"
  }
 },
 "nbformat": 4,
 "nbformat_minor": 2
}
